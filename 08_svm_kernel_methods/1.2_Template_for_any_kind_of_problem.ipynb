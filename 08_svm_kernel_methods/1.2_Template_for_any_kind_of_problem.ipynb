{
 "cells": [
  {
   "cell_type": "markdown",
   "metadata": {
    "id": "pI3VC_WwRFNi"
   },
   "source": [
    "## Import libraries"
   ]
  },
  {
   "cell_type": "code",
   "execution_count": null,
   "metadata": {
    "executionInfo": {
     "elapsed": 476,
     "status": "ok",
     "timestamp": 1737464996029,
     "user": {
      "displayName": "Kowshic Roy",
      "userId": "08858698130456027419"
     },
     "user_tz": -360
    },
    "id": "2vWOqAlcRFNi"
   },
   "outputs": [],
   "source": [
    "import numpy as np # linear algebra\n",
    "import pandas as pd # data processing, CSV file I/O (e.g. pd.read_csv)\n",
    "import matplotlib.pyplot as plt # data visualization\n",
    "import seaborn as sns # statistical data visualization\n",
    "%matplotlib inline"
   ]
  },
  {
   "cell_type": "code",
   "execution_count": null,
   "metadata": {
    "executionInfo": {
     "elapsed": 1853,
     "status": "ok",
     "timestamp": 1737464999615,
     "user": {
      "displayName": "Kowshic Roy",
      "userId": "08858698130456027419"
     },
     "user_tz": -360
    },
    "id": "IhJ6P0vDRFNk"
   },
   "outputs": [],
   "source": [
    "import warnings\n",
    "\n",
    "warnings.filterwarnings('ignore')"
   ]
  },
  {
   "cell_type": "markdown",
   "metadata": {
    "id": "8ed_-fPJRFNk"
   },
   "source": [
    "## Import dataset"
   ]
  },
  {
   "cell_type": "code",
   "execution_count": null,
   "metadata": {
    "executionInfo": {
     "elapsed": 57,
     "status": "ok",
     "timestamp": 1737464999616,
     "user": {
      "displayName": "Kowshic Roy",
      "userId": "08858698130456027419"
     },
     "user_tz": -360
    },
    "id": "Fd-_1cHNRFNk"
   },
   "outputs": [],
   "source": [
    "df = pd.read_csv('weatherAUS.csv')"
   ]
  },
  {
   "cell_type": "markdown",
   "metadata": {
    "id": "XN6n_8rURFNk"
   },
   "source": [
    "## Exploratory data analysis\n"
   ]
  },
  {
   "cell_type": "markdown",
   "metadata": {
    "id": "1jxjLShITGYY"
   },
   "source": [
    "Now, we will explore the data to gain insights about the data."
   ]
  },
  {
   "cell_type": "code",
   "execution_count": null,
   "metadata": {
    "colab": {
     "base_uri": "https://localhost:8080/"
    },
    "executionInfo": {
     "elapsed": 56,
     "status": "ok",
     "timestamp": 1737464999616,
     "user": {
      "displayName": "Kowshic Roy",
      "userId": "08858698130456027419"
     },
     "user_tz": -360
    },
    "id": "DpEJWCqxRFNk",
    "outputId": "cafddd4a-3231-46e9-bb25-700ca91f6b4e"
   },
   "outputs": [],
   "source": [
    "# view dimensions of dataset\n",
    "df.shape"
   ]
  },
  {
   "cell_type": "code",
   "execution_count": null,
   "metadata": {
    "colab": {
     "base_uri": "https://localhost:8080/",
     "height": 342
    },
    "executionInfo": {
     "elapsed": 55,
     "status": "ok",
     "timestamp": 1737464999616,
     "user": {
      "displayName": "Kowshic Roy",
      "userId": "08858698130456027419"
     },
     "user_tz": -360
    },
    "id": "mprb9fugRFNk",
    "outputId": "3ead2aa1-e5b3-4b8f-a96e-f0dd0683ff5d"
   },
   "outputs": [],
   "source": [
    "# preview the dataset\n",
    "df.head()"
   ]
  },
  {
   "cell_type": "code",
   "execution_count": null,
   "metadata": {
    "colab": {
     "base_uri": "https://localhost:8080/"
    },
    "executionInfo": {
     "elapsed": 53,
     "status": "ok",
     "timestamp": 1737464999616,
     "user": {
      "displayName": "Kowshic Roy",
      "userId": "08858698130456027419"
     },
     "user_tz": -360
    },
    "id": "AjjVvsG_RFNl",
    "outputId": "2e3d4692-a036-43cb-e99e-5e6ed8053d87"
   },
   "outputs": [],
   "source": [
    "# view summary of dataset\n",
    "df.info()"
   ]
  },
  {
   "cell_type": "markdown",
   "metadata": {
    "id": "ThWv6OowRFNl"
   },
   "source": [
    "We segregate the dataset into numerical and categorical variables."
   ]
  },
  {
   "cell_type": "code",
   "execution_count": null,
   "metadata": {},
   "outputs": [],
   "source": [
    "df['Cloud3pm'].dtype"
   ]
  },
  {
   "cell_type": "code",
   "execution_count": null,
   "metadata": {},
   "outputs": [],
   "source": [
    "df['RainToday'].dtype"
   ]
  },
  {
   "cell_type": "code",
   "execution_count": null,
   "metadata": {
    "colab": {
     "base_uri": "https://localhost:8080/"
    },
    "executionInfo": {
     "elapsed": 50,
     "status": "ok",
     "timestamp": 1737464999616,
     "user": {
      "displayName": "Kowshic Roy",
      "userId": "08858698130456027419"
     },
     "user_tz": -360
    },
    "id": "qwWl514e6kqC",
    "outputId": "c430ec33-962d-4814-c8e3-3e5862ad0366"
   },
   "outputs": [],
   "source": [
    "# find numerical variables\n",
    "numerical = [var for var in df.columns if df[var].dtype!='O']\n",
    "print('There are {} numerical variables\\n'.format(len(numerical)))\n",
    "print('The numerical variables are :', numerical)"
   ]
  },
  {
   "cell_type": "code",
   "execution_count": null,
   "metadata": {
    "colab": {
     "base_uri": "https://localhost:8080/",
     "height": 585
    },
    "executionInfo": {
     "elapsed": 49,
     "status": "ok",
     "timestamp": 1737464999617,
     "user": {
      "displayName": "Kowshic Roy",
      "userId": "08858698130456027419"
     },
     "user_tz": -360
    },
    "id": "y58gyo-mRFNz",
    "outputId": "b755654b-a989-4b1d-9ad6-a399db2a8b70"
   },
   "outputs": [],
   "source": [
    "# check missing values in numerical variables\n",
    "df[numerical].isnull().sum()"
   ]
  },
  {
   "cell_type": "markdown",
   "metadata": {
    "id": "yTy8CjSzRFN0"
   },
   "source": [
    "We can see that all the original numerical variables contain missing values."
   ]
  },
  {
   "cell_type": "markdown",
   "metadata": {
    "id": "-110MibWRFN4"
   },
   "source": [
    "We use median imputation."
   ]
  },
  {
   "cell_type": "code",
   "execution_count": null,
   "metadata": {
    "colab": {
     "base_uri": "https://localhost:8080/"
    },
    "executionInfo": {
     "elapsed": 49,
     "status": "ok",
     "timestamp": 1737464999617,
     "user": {
      "displayName": "Kowshic Roy",
      "userId": "08858698130456027419"
     },
     "user_tz": -360
    },
    "id": "U97-_qW_RFN4",
    "outputId": "0b7da0e1-c262-4166-afa7-fab6a530bac9"
   },
   "outputs": [],
   "source": [
    "# impute missing values in X_train and X_test with respective column median in X_train\n",
    "for col in numerical:\n",
    "  col_median=df[col].median()\n",
    "  df[col].fillna(col_median, inplace=True)\n",
    "df.info()"
   ]
  },
  {
   "cell_type": "code",
   "execution_count": null,
   "metadata": {
    "colab": {
     "base_uri": "https://localhost:8080/",
     "height": 585
    },
    "executionInfo": {
     "elapsed": 47,
     "status": "ok",
     "timestamp": 1737464999617,
     "user": {
      "displayName": "Kowshic Roy",
      "userId": "08858698130456027419"
     },
     "user_tz": -360
    },
    "id": "7TzUGelr7jX6",
    "outputId": "8fed306a-5fdc-4364-a2f9-51348a5cacb7"
   },
   "outputs": [],
   "source": [
    "# Again, check missing values in numerical variables\n",
    "df[numerical].isnull().sum()"
   ]
  },
  {
   "cell_type": "markdown",
   "metadata": {
    "id": "9sJvyRZNRFN4"
   },
   "source": [
    "Now, we can see that there are no missing values in the numerical columns."
   ]
  },
  {
   "cell_type": "markdown",
   "metadata": {
    "id": "Z_ZbCxaS8K5u"
   },
   "source": [
    "After the above, we explore the categorical variables."
   ]
  },
  {
   "cell_type": "code",
   "execution_count": null,
   "metadata": {
    "colab": {
     "base_uri": "https://localhost:8080/"
    },
    "executionInfo": {
     "elapsed": 47,
     "status": "ok",
     "timestamp": 1737464999618,
     "user": {
      "displayName": "Kowshic Roy",
      "userId": "08858698130456027419"
     },
     "user_tz": -360
    },
    "id": "aRCcaqykRFNl",
    "outputId": "bddd4669-67e6-4c11-e7de-ad9198657d0e"
   },
   "outputs": [],
   "source": [
    "# find categorical variables\n",
    "categorical = [var for var in df.columns if df[var].dtype=='O']\n",
    "print('There are {} categorical variables\\n'.format(len(categorical)))\n",
    "print('The categorical variables are :', categorical)"
   ]
  },
  {
   "cell_type": "markdown",
   "metadata": {
    "id": "4FmSb396RFNn"
   },
   "source": [
    "The number of labels within a categorical variable is known as **cardinality**. A high number of labels within a variable is known as **high cardinality**. High cardinality may pose some serious problems in the machine learning model. So, we will check for high cardinality."
   ]
  },
  {
   "cell_type": "code",
   "execution_count": null,
   "metadata": {
    "colab": {
     "base_uri": "https://localhost:8080/"
    },
    "executionInfo": {
     "elapsed": 45,
     "status": "ok",
     "timestamp": 1737464999618,
     "user": {
      "displayName": "Kowshic Roy",
      "userId": "08858698130456027419"
     },
     "user_tz": -360
    },
    "id": "JxnzH5xPRFNn",
    "outputId": "bc2b0ee1-95e9-469a-922a-50e032946e1f"
   },
   "outputs": [],
   "source": [
    "# check for cardinality in categorical variables\n",
    "for var in categorical:\n",
    "    print(var, ' contains ', len(df[var].unique()), ' labels')"
   ]
  },
  {
   "cell_type": "markdown",
   "metadata": {
    "id": "yYMAcUedRFNr"
   },
   "source": [
    "We can see that there is a `Date` variable which needs to be preprocessed.\n",
    "\n",
    "All the other variables contain relatively smaller number of variables."
   ]
  },
  {
   "cell_type": "code",
   "execution_count": null,
   "metadata": {
    "colab": {
     "base_uri": "https://localhost:8080/"
    },
    "executionInfo": {
     "elapsed": 43,
     "status": "ok",
     "timestamp": 1737464999618,
     "user": {
      "displayName": "Kowshic Roy",
      "userId": "08858698130456027419"
     },
     "user_tz": -360
    },
    "id": "1qwDxMY5RFNr",
    "outputId": "381a0eef-77d8-443e-8a1d-f514b090c1d2"
   },
   "outputs": [],
   "source": [
    "df['Date'].dtypes"
   ]
  },
  {
   "cell_type": "markdown",
   "metadata": {
    "id": "sq6ZEiYuRFNs"
   },
   "source": [
    "We can see that the data type of `Date` variable is object. We will parse the date currently coded as object into datetime format."
   ]
  },
  {
   "cell_type": "code",
   "execution_count": null,
   "metadata": {
    "executionInfo": {
     "elapsed": 41,
     "status": "ok",
     "timestamp": 1737464999618,
     "user": {
      "displayName": "Kowshic Roy",
      "userId": "08858698130456027419"
     },
     "user_tz": -360
    },
    "id": "h2OavIl5RFNs"
   },
   "outputs": [],
   "source": [
    "# parse the dates, currently coded as strings, into datetime format\n",
    "df['Date'] = pd.to_datetime(df['Date'])"
   ]
  },
  {
   "cell_type": "code",
   "execution_count": null,
   "metadata": {
    "colab": {
     "base_uri": "https://localhost:8080/",
     "height": 241
    },
    "executionInfo": {
     "elapsed": 41,
     "status": "ok",
     "timestamp": 1737464999618,
     "user": {
      "displayName": "Kowshic Roy",
      "userId": "08858698130456027419"
     },
     "user_tz": -360
    },
    "id": "UHmW4zthRFNs",
    "outputId": "e6e852c9-2400-429a-be20-7112c000a774"
   },
   "outputs": [],
   "source": [
    "# extract year from date\n",
    "df['Year'] = df['Date'].dt.year\n",
    "df['Year'].head()"
   ]
  },
  {
   "cell_type": "code",
   "execution_count": null,
   "metadata": {
    "colab": {
     "base_uri": "https://localhost:8080/",
     "height": 241
    },
    "executionInfo": {
     "elapsed": 40,
     "status": "ok",
     "timestamp": 1737464999618,
     "user": {
      "displayName": "Kowshic Roy",
      "userId": "08858698130456027419"
     },
     "user_tz": -360
    },
    "id": "AAEL6f4YRFNs",
    "outputId": "0ec9e24a-f37c-4869-f845-0fb4557768b0"
   },
   "outputs": [],
   "source": [
    "# extract month from date\n",
    "df['Month'] = df['Date'].dt.month\n",
    "df['Month'].head()"
   ]
  },
  {
   "cell_type": "code",
   "execution_count": null,
   "metadata": {
    "colab": {
     "base_uri": "https://localhost:8080/",
     "height": 241
    },
    "executionInfo": {
     "elapsed": 39,
     "status": "ok",
     "timestamp": 1737464999618,
     "user": {
      "displayName": "Kowshic Roy",
      "userId": "08858698130456027419"
     },
     "user_tz": -360
    },
    "id": "Zqpe8zJQRFNs",
    "outputId": "a2732d06-2a5d-4f28-a3c5-e9a2b2656ac5"
   },
   "outputs": [],
   "source": [
    "# extract day from date\n",
    "df['Day'] = df['Date'].dt.day\n",
    "df['Day'].head()"
   ]
  },
  {
   "cell_type": "code",
   "execution_count": null,
   "metadata": {
    "colab": {
     "base_uri": "https://localhost:8080/"
    },
    "executionInfo": {
     "elapsed": 39,
     "status": "ok",
     "timestamp": 1737464999618,
     "user": {
      "displayName": "Kowshic Roy",
      "userId": "08858698130456027419"
     },
     "user_tz": -360
    },
    "id": "LMc3r6usRFNs",
    "outputId": "07067c08-256b-46a6-cc7f-4ba5629e028f"
   },
   "outputs": [],
   "source": [
    "# again view the summary of dataset\n",
    "df.info()"
   ]
  },
  {
   "cell_type": "markdown",
   "metadata": {
    "id": "oQZU7ryGRFNt"
   },
   "source": [
    "We can see that there are three additional columns created from `Date` variable. We will drop the original `Date` variable from the dataset."
   ]
  },
  {
   "cell_type": "code",
   "execution_count": null,
   "metadata": {
    "executionInfo": {
     "elapsed": 37,
     "status": "ok",
     "timestamp": 1737464999619,
     "user": {
      "displayName": "Kowshic Roy",
      "userId": "08858698130456027419"
     },
     "user_tz": -360
    },
    "id": "kfDajy7DRFNt"
   },
   "outputs": [],
   "source": [
    "# drop the original Date variable\n",
    "df.drop('Date', axis=1, inplace = True)"
   ]
  },
  {
   "cell_type": "markdown",
   "metadata": {
    "id": "6QJsx-YwRFNt"
   },
   "source": [
    "Now, we can see that the `Date` variable has been removed from the dataset.\n"
   ]
  },
  {
   "cell_type": "code",
   "execution_count": null,
   "metadata": {
    "colab": {
     "base_uri": "https://localhost:8080/",
     "height": 272
    },
    "executionInfo": {
     "elapsed": 37,
     "status": "ok",
     "timestamp": 1737464999619,
     "user": {
      "displayName": "Kowshic Roy",
      "userId": "08858698130456027419"
     },
     "user_tz": -360
    },
    "id": "lFA7uXxvRFNu",
    "outputId": "38f85210-9555-47ab-b684-fc04f4d20efd"
   },
   "outputs": [],
   "source": [
    "# check for missing values in categorical variables\n",
    "categorical = [var for var in df.columns if df[var].dtype=='O']\n",
    "df[categorical].isnull().sum()"
   ]
  },
  {
   "cell_type": "markdown",
   "metadata": {
    "id": "ssXD0ssRRFNu"
   },
   "source": [
    "We can see that all the variables except the first one contain missing values."
   ]
  },
  {
   "cell_type": "code",
   "execution_count": null,
   "metadata": {
    "colab": {
     "base_uri": "https://localhost:8080/"
    },
    "executionInfo": {
     "elapsed": 36,
     "status": "ok",
     "timestamp": 1737464999619,
     "user": {
      "displayName": "Kowshic Roy",
      "userId": "08858698130456027419"
     },
     "user_tz": -360
    },
    "id": "wAVRXERPRFNm",
    "outputId": "fea5d700-e17b-4665-b1f7-7a3f64ac1c80"
   },
   "outputs": [],
   "source": [
    "# print categorical variables containing missing values\n",
    "categoricalmissing = [var for var in categorical if df[var].isnull().sum()!=0]\n",
    "for c in categoricalmissing:\n",
    "    missing_percentage = df[c].isnull().mean() * 100\n",
    "    print(f\"{c}: {missing_percentage:.2f}% missing\")"
   ]
  },
  {
   "cell_type": "code",
   "execution_count": null,
   "metadata": {
    "executionInfo": {
     "elapsed": 34,
     "status": "ok",
     "timestamp": 1737464999619,
     "user": {
      "displayName": "Kowshic Roy",
      "userId": "08858698130456027419"
     },
     "user_tz": -360
    },
    "id": "k2ji8NUxRFN5"
   },
   "outputs": [],
   "source": [
    "# impute missing categorical variables with most frequent value for\n",
    "# all except the last one\n",
    "df['WindGustDir'].fillna(df['WindGustDir'].mode()[0], inplace=True)\n",
    "df['WindDir9am'].fillna(df['WindDir9am'].mode()[0], inplace=True)\n",
    "df['WindDir3pm'].fillna(df['WindDir3pm'].mode()[0], inplace=True)\n",
    "df['RainToday'].fillna(df['RainToday'].mode()[0], inplace=True)"
   ]
  },
  {
   "cell_type": "markdown",
   "metadata": {
    "id": "R-KWIOWxurXL"
   },
   "source": [
    "Since If the number of missing values in `RainTomorrow` is relatively small compared to the size of your dataset, and this is the test column, we are not going\n",
    "to take the risk of imputing it. Rather, we are going to drop the all the rows which has missing values in this column."
   ]
  },
  {
   "cell_type": "code",
   "execution_count": null,
   "metadata": {
    "colab": {
     "base_uri": "https://localhost:8080/"
    },
    "executionInfo": {
     "elapsed": 34,
     "status": "ok",
     "timestamp": 1737464999619,
     "user": {
      "displayName": "Kowshic Roy",
      "userId": "08858698130456027419"
     },
     "user_tz": -360
    },
    "id": "FfAgOdzkw079",
    "outputId": "1a6c7c20-8bcb-48e6-804d-25e4d257d6ac"
   },
   "outputs": [],
   "source": [
    "df.dropna(subset=['RainTomorrow'], inplace=True)\n",
    "df.info()"
   ]
  },
  {
   "cell_type": "markdown",
   "metadata": {
    "id": "iQ3QSpMZRFN7"
   },
   "source": [
    "## Encode categorical variables"
   ]
  },
  {
   "cell_type": "code",
   "execution_count": null,
   "metadata": {
    "colab": {
     "base_uri": "https://localhost:8080/"
    },
    "executionInfo": {
     "elapsed": 32,
     "status": "ok",
     "timestamp": 1737464999619,
     "user": {
      "displayName": "Kowshic Roy",
      "userId": "08858698130456027419"
     },
     "user_tz": -360
    },
    "id": "5jXbjjHbRFN7",
    "outputId": "45b6ff4a-c35b-4f32-e118-1d439c310d50"
   },
   "outputs": [],
   "source": [
    "categorical = [var for var in df.columns if df[var].dtype=='O']\n",
    "print(categorical)"
   ]
  },
  {
   "cell_type": "code",
   "execution_count": null,
   "metadata": {
    "executionInfo": {
     "elapsed": 30,
     "status": "ok",
     "timestamp": 1737464999619,
     "user": {
      "displayName": "Kowshic Roy",
      "userId": "08858698130456027419"
     },
     "user_tz": -360
    },
    "id": "FNqhe9FXCOnX"
   },
   "outputs": [],
   "source": [
    "# Explicitly encode the RainToday, and RainTomorrow variables\n",
    "\n",
    "# Define the mapping for RainToday and RainTomorrow\n",
    "mapping = {'Yes': 1, 'No': 0}\n",
    "\n",
    "# Explicitly encode RainToday and RainTomorrow variables\n",
    "df['RainToday'] = df['RainToday'].map(mapping)\n",
    "df['RainTomorrow'] = df['RainTomorrow'].map(mapping)\n"
   ]
  },
  {
   "cell_type": "code",
   "execution_count": null,
   "metadata": {
    "colab": {
     "base_uri": "https://localhost:8080/"
    },
    "executionInfo": {
     "elapsed": 30,
     "status": "ok",
     "timestamp": 1737464999619,
     "user": {
      "displayName": "Kowshic Roy",
      "userId": "08858698130456027419"
     },
     "user_tz": -360
    },
    "id": "tlBs8H-XDAJY",
    "outputId": "3ac42b89-2cd3-4561-a5b4-e33fa24a5943"
   },
   "outputs": [],
   "source": [
    "categorical = [var for var in df.columns if df[var].dtype=='O']\n",
    "print(categorical)"
   ]
  },
  {
   "cell_type": "code",
   "execution_count": null,
   "metadata": {
    "colab": {
     "base_uri": "https://localhost:8080/"
    },
    "executionInfo": {
     "elapsed": 28,
     "status": "ok",
     "timestamp": 1737464999619,
     "user": {
      "displayName": "Kowshic Roy",
      "userId": "08858698130456027419"
     },
     "user_tz": -360
    },
    "id": "C3DOyU_f_UQj",
    "outputId": "b888823e-eedd-49c4-ad98-e62797b6c163"
   },
   "outputs": [],
   "source": [
    "from sklearn.preprocessing import LabelEncoder\n",
    "\n",
    "# Initialize LabelEncoder\n",
    "label_encoders = {}\n",
    "\n",
    "# Encode each categorical variable\n",
    "for var in categorical:\n",
    "    le = LabelEncoder()\n",
    "    df[var] = le.fit_transform(df[var])\n",
    "    label_encoders[var] = le\n",
    "\n",
    "# Print the label encodings\n",
    "for var, le in label_encoders.items():\n",
    "    print(f\"{var} Label Encoding:\")\n",
    "    for label, code in zip(le.classes_, le.transform(le.classes_)):\n",
    "        print(f\"\\t{label}: {code}\")\n",
    "    print()\n"
   ]
  },
  {
   "cell_type": "code",
   "execution_count": null,
   "metadata": {
    "colab": {
     "base_uri": "https://localhost:8080/"
    },
    "executionInfo": {
     "elapsed": 27,
     "status": "ok",
     "timestamp": 1737464999619,
     "user": {
      "displayName": "Kowshic Roy",
      "userId": "08858698130456027419"
     },
     "user_tz": -360
    },
    "id": "UGyi8KuW1mDL",
    "outputId": "d20da2a1-2c84-4ac9-bbeb-fcecef9127f5"
   },
   "outputs": [],
   "source": [
    "df.columns"
   ]
  },
  {
   "cell_type": "markdown",
   "metadata": {
    "id": "8ZYGmTOcRFN2"
   },
   "source": [
    "## Split data into separate training and test set"
   ]
  },
  {
   "cell_type": "code",
   "execution_count": null,
   "metadata": {
    "executionInfo": {
     "elapsed": 25,
     "status": "ok",
     "timestamp": 1737464999620,
     "user": {
      "displayName": "Kowshic Roy",
      "userId": "08858698130456027419"
     },
     "user_tz": -360
    },
    "id": "xix6MXJKRFN2"
   },
   "outputs": [],
   "source": [
    "X = df.drop(['RainTomorrow'], axis=1)\n",
    "y = df['RainTomorrow']"
   ]
  },
  {
   "cell_type": "code",
   "execution_count": null,
   "metadata": {
    "executionInfo": {
     "elapsed": 25,
     "status": "ok",
     "timestamp": 1737464999620,
     "user": {
      "displayName": "Kowshic Roy",
      "userId": "08858698130456027419"
     },
     "user_tz": -360
    },
    "id": "XCeaub9yRFN2"
   },
   "outputs": [],
   "source": [
    "# split X and y into training and testing sets\n",
    "from sklearn.model_selection import train_test_split\n",
    "X_train, X_test, y_train, y_test = train_test_split(X, y, test_size = 0.2, random_state = 0)\n"
   ]
  },
  {
   "cell_type": "markdown",
   "metadata": {
    "id": "16iWUnaIsuK9"
   },
   "source": [
    "## Feature selection"
   ]
  },
  {
   "cell_type": "code",
   "execution_count": null,
   "metadata": {
    "colab": {
     "base_uri": "https://localhost:8080/",
     "height": 836
    },
    "executionInfo": {
     "elapsed": 6862,
     "status": "ok",
     "timestamp": 1737465006457,
     "user": {
      "displayName": "Kowshic Roy",
      "userId": "08858698130456027419"
     },
     "user_tz": -360
    },
    "id": "3YuYZ-DEsuK-",
    "outputId": "cea05ced-6ecf-4867-ef7d-8df69b2195c9"
   },
   "outputs": [],
   "source": [
    "# ref: https://medium.com/@Kavya2099/optimizing-performance-selectkbest-for-efficient-feature-selection-in-machine-learning-3b635905ed48\n",
    "\n",
    "#using mutual_info_classif for classification problem MI\n",
    "from sklearn.feature_selection import mutual_info_classif\n",
    "\n",
    "mi_scores = mutual_info_classif(X_train, y_train)\n",
    "mi_scores = pd.Series(mi_scores, name=\"MI Scores\", index=X_train.columns)\n",
    "mi_scores = mi_scores.sort_values(ascending=False)\n",
    "\n",
    "mi_scores # show a few features with their MI scores"
   ]
  },
  {
   "cell_type": "code",
   "execution_count": null,
   "metadata": {
    "colab": {
     "base_uri": "https://localhost:8080/"
    },
    "executionInfo": {
     "elapsed": 6378,
     "status": "ok",
     "timestamp": 1737465012833,
     "user": {
      "displayName": "Kowshic Roy",
      "userId": "08858698130456027419"
     },
     "user_tz": -360
    },
    "id": "BqlpwT2psuK-",
    "outputId": "f001edd2-f5a9-4075-ed87-efca4b18273a"
   },
   "outputs": [],
   "source": [
    "# for classification problem\n",
    "from sklearn.feature_selection import SelectKBest, mutual_info_classif, chi2, f_classif\n",
    "\n",
    "X_opt=SelectKBest(score_func=mutual_info_classif,k=5)\n",
    "X_opt.fit(X_train, y_train)\n",
    "names = X_opt.get_feature_names_out()\n",
    "X_train = X_train[names]\n",
    "X_test = X_test[names]\n",
    "\n",
    "print(f'mutual_info_classif: {names}')\n",
    "print(f'f_classif:', SelectKBest(score_func=f_classif,k=5).fit(X_train, y_train).get_feature_names_out())"
   ]
  },
  {
   "cell_type": "code",
   "execution_count": null,
   "metadata": {
    "colab": {
     "base_uri": "https://localhost:8080/",
     "height": 423
    },
    "executionInfo": {
     "elapsed": 9,
     "status": "ok",
     "timestamp": 1737465012833,
     "user": {
      "displayName": "Kowshic Roy",
      "userId": "08858698130456027419"
     },
     "user_tz": -360
    },
    "id": "s9X62xa5suK-",
    "outputId": "45a6a0ea-74bc-427a-c506-bbf0f2309272"
   },
   "outputs": [],
   "source": [
    "X_train"
   ]
  },
  {
   "cell_type": "code",
   "execution_count": null,
   "metadata": {
    "colab": {
     "base_uri": "https://localhost:8080/"
    },
    "executionInfo": {
     "elapsed": 7,
     "status": "ok",
     "timestamp": 1737465012833,
     "user": {
      "displayName": "Kowshic Roy",
      "userId": "08858698130456027419"
     },
     "user_tz": -360
    },
    "id": "FMru2LnLsuK-",
    "outputId": "bbd61ff6-3cdb-4ac0-a6c9-6471ae95bc2c"
   },
   "outputs": [],
   "source": [
    "# for regression problem\n",
    "from sklearn.feature_selection import SelectKBest, f_regression, mutual_info_regression\n",
    "print(f'f_regression:', SelectKBest(score_func=f_regression,k=5).fit(X_train, y_train).get_feature_names_out())\n",
    "print(f'mutual_info_regression:', SelectKBest(score_func=mutual_info_regression,k=5).fit(X_train, y_train).get_feature_names_out())"
   ]
  },
  {
   "cell_type": "markdown",
   "metadata": {
    "id": "n9a53P5zsuK-"
   },
   "source": [
    "## Polynomial features"
   ]
  },
  {
   "cell_type": "code",
   "execution_count": null,
   "metadata": {
    "executionInfo": {
     "elapsed": 5,
     "status": "ok",
     "timestamp": 1737465012833,
     "user": {
      "displayName": "Kowshic Roy",
      "userId": "08858698130456027419"
     },
     "user_tz": -360
    },
    "id": "3FsUWXtOsuK-"
   },
   "outputs": [],
   "source": [
    "from sklearn.preprocessing import PolynomialFeatures\n",
    "poly = PolynomialFeatures(2)\n",
    "poly.fit(X_train)\n",
    "X_train = poly.transform(X_train)\n",
    "X_test = poly.transform(X_test)"
   ]
  },
  {
   "cell_type": "markdown",
   "metadata": {},
   "source": [
    "This code is **adding polynomial features** to your dataset so a model can capture **nonlinear relationships** without changing the underlying algorithm.\n",
    "\n",
    "Let’s unpack it step by step:\n",
    "\n",
    "---\n",
    "\n",
    "### **1. `PolynomialFeatures(2)`**\n",
    "\n",
    "* From `sklearn.preprocessing`, this generates new features that are **all polynomial combinations** of the existing features up to the specified **degree** (here, `2`).\n",
    "* **Degree = 2** means:\n",
    "\n",
    "  * Keep the original features (degree 1)\n",
    "  * Add squared terms (degree 2)\n",
    "  * Add interaction terms (feature₁ × feature₂)\n",
    "* If your original data has:\n",
    "\n",
    "  $$\n",
    "  X = [x_1, x_2]\n",
    "  $$\n",
    "\n",
    "  then with degree 2, you’ll get:\n",
    "\n",
    "  $$\n",
    "  [1, x_1, x_2, x_1^2, x_1x_2, x_2^2]\n",
    "  $$\n",
    "\n",
    "  (The `1` is the bias term if `include_bias=True`, which is default.)\n",
    "\n",
    "---\n",
    "\n",
    "### **2. `poly.fit(X_train)`**\n",
    "\n",
    "* Learns how many output features will be generated based on the number of input features and the degree.\n",
    "* Doesn’t change the data yet — just prepares the transformer.\n",
    "\n",
    "---\n",
    "\n",
    "### **3. `poly.transform(X_train)` & `poly.transform(X_test)`**\n",
    "\n",
    "* Applies the transformation:\n",
    "\n",
    "  * Takes each row in `X_train` / `X_test`\n",
    "  * Generates the polynomial and interaction terms.\n",
    "* This expands your feature space.\n",
    "\n",
    "---\n",
    "\n",
    "✅ **Why do this?**\n",
    "\n",
    "* Many models (like **Linear Regression**, **Logistic Regression**, or even `SVC(kernel='linear')`) are inherently linear.\n",
    "* By **manually adding polynomial features**, you let these models fit **curved decision boundaries** or nonlinear trends — similar to what an `SVC(kernel='poly')` would do, but explicitly in the feature space."
   ]
  },
  {
   "cell_type": "markdown",
   "metadata": {
    "id": "gB4j5eaGsuK_"
   },
   "source": [
    "## MinMax scaling"
   ]
  },
  {
   "cell_type": "code",
   "execution_count": null,
   "metadata": {
    "executionInfo": {
     "elapsed": 489,
     "status": "ok",
     "timestamp": 1737465013318,
     "user": {
      "displayName": "Kowshic Roy",
      "userId": "08858698130456027419"
     },
     "user_tz": -360
    },
    "id": "pGoqXqL7suK_"
   },
   "outputs": [],
   "source": [
    "from sklearn.preprocessing import MinMaxScaler\n",
    "scaler = MinMaxScaler()\n",
    "scaler.fit(X_train)\n",
    "X_train = scaler.transform(X_train)\n",
    "X_test = scaler.transform(X_test)"
   ]
  },
  {
   "cell_type": "markdown",
   "metadata": {
    "id": "hZB1HnCBRFN9"
   },
   "source": [
    "## Model training"
   ]
  },
  {
   "cell_type": "code",
   "execution_count": null,
   "metadata": {
    "colab": {
     "base_uri": "https://localhost:8080/",
     "height": 80
    },
    "executionInfo": {
     "elapsed": 13,
     "status": "ok",
     "timestamp": 1737465013318,
     "user": {
      "displayName": "Kowshic Roy",
      "userId": "08858698130456027419"
     },
     "user_tz": -360
    },
    "id": "hfOr3WUtRFN-",
    "outputId": "8a5c5d24-cda6-4b6d-d790-c7c40b73b582"
   },
   "outputs": [],
   "source": [
    "# train a logistic regression model on the training set\n",
    "from sklearn.linear_model import LogisticRegression\n",
    "\n",
    "# instantiate the model\n",
    "logreg = LogisticRegression(solver='liblinear', random_state=0)\n",
    "\n",
    "# fit the model\n",
    "logreg.fit(X_train, y_train)\n"
   ]
  },
  {
   "cell_type": "markdown",
   "metadata": {
    "id": "jawsOG-PRFN-"
   },
   "source": [
    "## Predict results"
   ]
  },
  {
   "cell_type": "code",
   "execution_count": null,
   "metadata": {
    "executionInfo": {
     "elapsed": 12,
     "status": "ok",
     "timestamp": 1737465013318,
     "user": {
      "displayName": "Kowshic Roy",
      "userId": "08858698130456027419"
     },
     "user_tz": -360
    },
    "id": "UN6yt2OIRFN-"
   },
   "outputs": [],
   "source": [
    "y_pred_test = logreg.predict(X_test)"
   ]
  },
  {
   "cell_type": "markdown",
   "metadata": {
    "id": "ElD3hQWmRFN_"
   },
   "source": [
    "## Check accuracy score"
   ]
  },
  {
   "cell_type": "code",
   "execution_count": null,
   "metadata": {
    "colab": {
     "base_uri": "https://localhost:8080/"
    },
    "executionInfo": {
     "elapsed": 11,
     "status": "ok",
     "timestamp": 1737465013318,
     "user": {
      "displayName": "Kowshic Roy",
      "userId": "08858698130456027419"
     },
     "user_tz": -360
    },
    "id": "M-nDcOIWRFN_",
    "outputId": "dc18c38b-3b8f-4d9e-cf0b-7abe9d7e2357"
   },
   "outputs": [],
   "source": [
    "from sklearn.metrics import accuracy_score\n",
    "\n",
    "print('Model accuracy score: {0:0.2f}%'. format(accuracy_score(y_test, y_pred_test)*100))"
   ]
  },
  {
   "cell_type": "markdown",
   "metadata": {
    "id": "SQQxAikKRFN_"
   },
   "source": [
    "### Compare the train-set and test-set accuracy\n",
    "\n",
    "\n",
    "Now, we will compare the train-set and test-set accuracy to check for overfitting."
   ]
  },
  {
   "cell_type": "code",
   "execution_count": null,
   "metadata": {
    "executionInfo": {
     "elapsed": 9,
     "status": "ok",
     "timestamp": 1737465013318,
     "user": {
      "displayName": "Kowshic Roy",
      "userId": "08858698130456027419"
     },
     "user_tz": -360
    },
    "id": "95MHuZO6RFN_"
   },
   "outputs": [],
   "source": [
    "y_pred_train = logreg.predict(X_train)"
   ]
  },
  {
   "cell_type": "code",
   "execution_count": null,
   "metadata": {
    "colab": {
     "base_uri": "https://localhost:8080/"
    },
    "executionInfo": {
     "elapsed": 10,
     "status": "ok",
     "timestamp": 1737465013319,
     "user": {
      "displayName": "Kowshic Roy",
      "userId": "08858698130456027419"
     },
     "user_tz": -360
    },
    "id": "WuyEzdEnRFN_",
    "outputId": "68646927-0f7e-42e5-8391-6dfb7cacfed2"
   },
   "outputs": [],
   "source": [
    "print('Training-set accuracy score: {0:0.4f}%'. format(accuracy_score(y_train, y_pred_train)*100))"
   ]
  },
  {
   "cell_type": "markdown",
   "metadata": {
    "id": "4HN5vpgvRFOC"
   },
   "source": [
    "## Confusion matrix"
   ]
  },
  {
   "cell_type": "code",
   "execution_count": null,
   "metadata": {
    "colab": {
     "base_uri": "https://localhost:8080/"
    },
    "executionInfo": {
     "elapsed": 9,
     "status": "ok",
     "timestamp": 1737465013319,
     "user": {
      "displayName": "Kowshic Roy",
      "userId": "08858698130456027419"
     },
     "user_tz": -360
    },
    "id": "5NvUIIoqRFOC",
    "outputId": "b5adb0bc-acc6-4505-c80c-74c8acfe62a8"
   },
   "outputs": [],
   "source": [
    "# Print the Confusion Matrix and slice it into four pieces\n",
    "\n",
    "from sklearn.metrics import confusion_matrix\n",
    "\n",
    "cm = confusion_matrix(y_test, y_pred_test)\n",
    "\n",
    "print('Confusion matrix\\n\\n', cm)\n",
    "print('\\nTrue Positives(TP) = ', cm[0,0])\n",
    "print('\\nTrue Negatives(TN) = ', cm[1,1])\n",
    "print('\\nFalse Positives(FP) = ', cm[0,1])\n",
    "print('\\nFalse Negatives(FN) = ', cm[1,0])"
   ]
  },
  {
   "cell_type": "code",
   "execution_count": null,
   "metadata": {
    "colab": {
     "base_uri": "https://localhost:8080/",
     "height": 447
    },
    "executionInfo": {
     "elapsed": 1717,
     "status": "ok",
     "timestamp": 1737465015029,
     "user": {
      "displayName": "Kowshic Roy",
      "userId": "08858698130456027419"
     },
     "user_tz": -360
    },
    "id": "lu5qJP_5RFOC",
    "outputId": "35a121e2-8840-4eb3-9cc5-81343b8644a3"
   },
   "outputs": [],
   "source": [
    "# visualize confusion matrix with seaborn heatmap\n",
    "\n",
    "cm_matrix = pd.DataFrame(data=cm, columns=['Actual Positive:1', 'Actual Negative:0'],\n",
    "                                 index=['Predict Positive:1', 'Predict Negative:0'])\n",
    "\n",
    "sns.heatmap(cm_matrix, annot=True, fmt='d', cmap='YlGnBu')"
   ]
  },
  {
   "cell_type": "markdown",
   "metadata": {
    "id": "eC5s3V9xsuLA"
   },
   "source": [
    "## Check classification report"
   ]
  },
  {
   "cell_type": "code",
   "execution_count": null,
   "metadata": {
    "colab": {
     "base_uri": "https://localhost:8080/"
    },
    "executionInfo": {
     "elapsed": 9,
     "status": "ok",
     "timestamp": 1737465015029,
     "user": {
      "displayName": "Kowshic Roy",
      "userId": "08858698130456027419"
     },
     "user_tz": -360
    },
    "id": "SwkO6-uSsuLB",
    "outputId": "624ac17c-27c9-49ea-a006-9fc1c4d2b08e"
   },
   "outputs": [],
   "source": [
    "from sklearn.metrics import precision_score, recall_score, f1_score, accuracy_score\n",
    "print(\n",
    "    f\"Accuracy Score: {accuracy_score(y_test, y_pred_test):.4f}\\n\"\n",
    "    f\"Precision Score: {precision_score(y_test, y_pred_test):.4f}\\n\"\n",
    "    f\"Recall Score: {recall_score(y_test, y_pred_test):.4f}\\n\"\n",
    "    f\"F1 Score: {f1_score(y_test, y_pred_test):.4f}\"\n",
    ")"
   ]
  },
  {
   "cell_type": "code",
   "execution_count": null,
   "metadata": {
    "colab": {
     "base_uri": "https://localhost:8080/"
    },
    "executionInfo": {
     "elapsed": 7,
     "status": "ok",
     "timestamp": 1737465015029,
     "user": {
      "displayName": "Kowshic Roy",
      "userId": "08858698130456027419"
     },
     "user_tz": -360
    },
    "id": "OkXFDQM9suLB",
    "outputId": "8f7efa3c-b073-4261-be7d-68b9524aad1d"
   },
   "outputs": [],
   "source": [
    "from sklearn.metrics import classification_report\n",
    "print(classification_report(y_test, y_pred_test))"
   ]
  },
  {
   "cell_type": "markdown",
   "metadata": {
    "id": "k4vxzpZ3suLB"
   },
   "source": [
    "## How do we plot"
   ]
  },
  {
   "cell_type": "code",
   "execution_count": null,
   "metadata": {
    "colab": {
     "base_uri": "https://localhost:8080/",
     "height": 466
    },
    "executionInfo": {
     "elapsed": 6456,
     "status": "ok",
     "timestamp": 1737465085380,
     "user": {
      "displayName": "Kowshic Roy",
      "userId": "08858698130456027419"
     },
     "user_tz": -360
    },
    "id": "7QPN8Mi4suLB",
    "outputId": "5ec02dab-f9e1-4198-e095-ae3764d66862"
   },
   "outputs": [],
   "source": [
    "# np.concatenate(X_train,  X_test, axis=0)\n",
    "plt.scatter(X['Humidity3pm'], X['Sunshine'],  c= logreg.predict(np.concatenate((X_train,  X_test), axis=0)))\n",
    "plt.xlabel('Humidity3pm')\n",
    "plt.ylabel('Sunshine')"
   ]
  },
  {
   "cell_type": "code",
   "execution_count": null,
   "metadata": {
    "colab": {
     "base_uri": "https://localhost:8080/",
     "height": 447
    },
    "executionInfo": {
     "elapsed": 2557,
     "status": "ok",
     "timestamp": 1737465020143,
     "user": {
      "displayName": "Kowshic Roy",
      "userId": "08858698130456027419"
     },
     "user_tz": -360
    },
    "id": "1YrEFGfnsuLB",
    "outputId": "c6d3017b-9757-4d6f-90c4-a0cce8247dd1"
   },
   "outputs": [],
   "source": [
    "# do pca to reduce the number of features\n",
    "from sklearn.decomposition import PCA\n",
    "pca = PCA(n_components=2)\n",
    "pca.fit(X_train)\n",
    "plt.scatter(pca.transform(X_train)[:,0], pca.transform(X_train)[:,1], c=y_train)"
   ]
  },
  {
   "cell_type": "code",
   "execution_count": null,
   "metadata": {},
   "outputs": [],
   "source": []
  }
 ],
 "metadata": {
  "accelerator": "GPU",
  "colab": {
   "gpuType": "T4",
   "provenance": []
  },
  "kernelspec": {
   "display_name": "base",
   "language": "python",
   "name": "python3"
  },
  "language_info": {
   "codemirror_mode": {
    "name": "ipython",
    "version": 3
   },
   "file_extension": ".py",
   "mimetype": "text/x-python",
   "name": "python",
   "nbconvert_exporter": "python",
   "pygments_lexer": "ipython3",
   "version": "3.9.13"
  }
 },
 "nbformat": 4,
 "nbformat_minor": 0
}
